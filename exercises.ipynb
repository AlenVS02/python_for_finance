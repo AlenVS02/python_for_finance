{
 "cells": [
  {
   "cell_type": "markdown",
   "metadata": {},
   "source": [
    "N-dimensional arrays in NumPy are only compatible with values of the same data type.\n",
    "\n",
    "Arrays can organize values into matrices and vectors.\n",
    "\n",
    "One-dimensional arrays are called vectors\n",
    "Multi-dimensional arrays are called matrices"
   ]
  },
  {
   "cell_type": "code",
   "execution_count": 3,
   "metadata": {},
   "outputs": [],
   "source": [
    "import numpy as np\n"
   ]
  },
  {
   "cell_type": "code",
   "execution_count": 13,
   "metadata": {},
   "outputs": [
    {
     "name": "stdout",
     "output_type": "stream",
     "text": [
      "[[0 1 2 3]\n",
      " [4 5 6 7]]\n",
      "2\n"
     ]
    }
   ],
   "source": [
    "a = np.array([[0,1,2,3],[4,5,6,7]])\n",
    "print(a)\n",
    "a.shape\n",
    "print(a[0,2])"
   ]
  },
  {
   "cell_type": "code",
   "execution_count": 15,
   "metadata": {},
   "outputs": [
    {
     "data": {
      "text/plain": [
       "8"
      ]
     },
     "execution_count": 15,
     "metadata": {},
     "output_type": "execute_result"
    }
   ],
   "source": [
    "a[1,3] = 8\n",
    "a[1,3]"
   ]
  },
  {
   "cell_type": "markdown",
   "metadata": {},
   "source": [
    "Generating random numbers is useful to run simulations of data entries.\n",
    "Firstly, one must import the random module\n",
    "\n",
    "    >>> import random\n",
    "\n",
    "    • random.random() - generates a float value in range [0,1)\n",
    "\n",
    "    • random.randit(min, max) - generates an integer value in the provided interval [min, max].\n",
    "\n",
    "To combine NumPy and random module, one must concatenate the numpy and random operators one after the other.\n",
    "\n",
    "i.e.\n",
    "\n",
    "    Create a matrix of n rows and n columns using randomized integer values\n",
    "\n",
    "    >>> import numpy as np\n",
    "    >>> import random\n",
    "\n",
    "    >>> np.random.randit(1, 9, (n,n))"
   ]
  },
  {
   "cell_type": "code",
   "execution_count": 44,
   "metadata": {},
   "outputs": [
    {
     "name": "stdout",
     "output_type": "stream",
     "text": [
      "0.4193905709146264\n",
      "31\n",
      "[[2 3 2 3 3 4]\n",
      " [3 3 4 5 1 2]\n",
      " [3 4 4 3 4 2]\n",
      " [3 2 2 5 1 2]]\n"
     ]
    }
   ],
   "source": [
    "import random\n",
    "\n",
    "rand_float = random.random()\n",
    "\n",
    "print(rand_float)\n",
    "\n",
    "rand_int = random.randint(29, 38)\n",
    "\n",
    "print(rand_int)\n",
    "\n",
    "rand_matrix = np.random.randint(1,6, (4,6))\n",
    "\n",
    "print(rand_matrix)"
   ]
  },
  {
   "cell_type": "code",
   "execution_count": 46,
   "metadata": {},
   "outputs": [
    {
     "data": {
      "text/plain": [
       "0    0.895534\n",
       "1    0.656404\n",
       "2    0.158442\n",
       "3    0.094801\n",
       "4    0.221746\n",
       "Name: Column: 01, dtype: float64"
      ]
     },
     "execution_count": 46,
     "metadata": {},
     "output_type": "execute_result"
    }
   ],
   "source": [
    "import pandas as pd\n",
    "\n",
    "ser = pd.Series(np.random.random(5), name = \"Column: 01\")\n",
    "ser"
   ]
  },
  {
   "cell_type": "code",
   "execution_count": 50,
   "metadata": {},
   "outputs": [
    {
     "data": {
      "text/html": [
       "<div>\n",
       "<style scoped>\n",
       "    .dataframe tbody tr th:only-of-type {\n",
       "        vertical-align: middle;\n",
       "    }\n",
       "\n",
       "    .dataframe tbody tr th {\n",
       "        vertical-align: top;\n",
       "    }\n",
       "\n",
       "    .dataframe thead th {\n",
       "        text-align: right;\n",
       "    }\n",
       "</style>\n",
       "<table border=\"1\" class=\"dataframe\">\n",
       "  <thead>\n",
       "    <tr style=\"text-align: right;\">\n",
       "      <th></th>\n",
       "      <th>High</th>\n",
       "      <th>Low</th>\n",
       "      <th>Open</th>\n",
       "      <th>Close</th>\n",
       "      <th>Volume</th>\n",
       "      <th>Adj Close</th>\n",
       "    </tr>\n",
       "    <tr>\n",
       "      <th>Date</th>\n",
       "      <th></th>\n",
       "      <th></th>\n",
       "      <th></th>\n",
       "      <th></th>\n",
       "      <th></th>\n",
       "      <th></th>\n",
       "    </tr>\n",
       "  </thead>\n",
       "  <tbody>\n",
       "    <tr>\n",
       "      <th>1995-01-03</th>\n",
       "      <td>0.347098</td>\n",
       "      <td>0.338170</td>\n",
       "      <td>0.347098</td>\n",
       "      <td>0.342634</td>\n",
       "      <td>1.038688e+08</td>\n",
       "      <td>0.289652</td>\n",
       "    </tr>\n",
       "    <tr>\n",
       "      <th>1995-01-04</th>\n",
       "      <td>0.353795</td>\n",
       "      <td>0.344866</td>\n",
       "      <td>0.344866</td>\n",
       "      <td>0.351563</td>\n",
       "      <td>1.586816e+08</td>\n",
       "      <td>0.297200</td>\n",
       "    </tr>\n",
       "    <tr>\n",
       "      <th>1995-01-05</th>\n",
       "      <td>0.351563</td>\n",
       "      <td>0.345982</td>\n",
       "      <td>0.350446</td>\n",
       "      <td>0.347098</td>\n",
       "      <td>7.364000e+07</td>\n",
       "      <td>0.293425</td>\n",
       "    </tr>\n",
       "    <tr>\n",
       "      <th>1995-01-06</th>\n",
       "      <td>0.385045</td>\n",
       "      <td>0.367188</td>\n",
       "      <td>0.371652</td>\n",
       "      <td>0.375000</td>\n",
       "      <td>1.076622e+09</td>\n",
       "      <td>0.317013</td>\n",
       "    </tr>\n",
       "    <tr>\n",
       "      <th>1995-01-09</th>\n",
       "      <td>0.373884</td>\n",
       "      <td>0.366071</td>\n",
       "      <td>0.371652</td>\n",
       "      <td>0.367885</td>\n",
       "      <td>2.740864e+08</td>\n",
       "      <td>0.310998</td>\n",
       "    </tr>\n",
       "    <tr>\n",
       "      <th>...</th>\n",
       "      <td>...</td>\n",
       "      <td>...</td>\n",
       "      <td>...</td>\n",
       "      <td>...</td>\n",
       "      <td>...</td>\n",
       "      <td>...</td>\n",
       "    </tr>\n",
       "    <tr>\n",
       "      <th>2022-06-01</th>\n",
       "      <td>151.740005</td>\n",
       "      <td>147.679993</td>\n",
       "      <td>149.899994</td>\n",
       "      <td>148.710007</td>\n",
       "      <td>7.428660e+07</td>\n",
       "      <td>148.710007</td>\n",
       "    </tr>\n",
       "    <tr>\n",
       "      <th>2022-06-02</th>\n",
       "      <td>151.270004</td>\n",
       "      <td>146.860001</td>\n",
       "      <td>147.830002</td>\n",
       "      <td>151.210007</td>\n",
       "      <td>7.234810e+07</td>\n",
       "      <td>151.210007</td>\n",
       "    </tr>\n",
       "    <tr>\n",
       "      <th>2022-06-03</th>\n",
       "      <td>147.970001</td>\n",
       "      <td>144.460007</td>\n",
       "      <td>146.899994</td>\n",
       "      <td>145.380005</td>\n",
       "      <td>8.847140e+07</td>\n",
       "      <td>145.380005</td>\n",
       "    </tr>\n",
       "    <tr>\n",
       "      <th>2022-06-06</th>\n",
       "      <td>148.570007</td>\n",
       "      <td>144.899994</td>\n",
       "      <td>147.029999</td>\n",
       "      <td>146.139999</td>\n",
       "      <td>7.159840e+07</td>\n",
       "      <td>146.139999</td>\n",
       "    </tr>\n",
       "    <tr>\n",
       "      <th>2022-06-07</th>\n",
       "      <td>148.990005</td>\n",
       "      <td>144.100006</td>\n",
       "      <td>144.345001</td>\n",
       "      <td>148.710007</td>\n",
       "      <td>6.691074e+07</td>\n",
       "      <td>148.710007</td>\n",
       "    </tr>\n",
       "  </tbody>\n",
       "</table>\n",
       "<p>6907 rows × 6 columns</p>\n",
       "</div>"
      ],
      "text/plain": [
       "                  High         Low        Open       Close        Volume  \\\n",
       "Date                                                                       \n",
       "1995-01-03    0.347098    0.338170    0.347098    0.342634  1.038688e+08   \n",
       "1995-01-04    0.353795    0.344866    0.344866    0.351563  1.586816e+08   \n",
       "1995-01-05    0.351563    0.345982    0.350446    0.347098  7.364000e+07   \n",
       "1995-01-06    0.385045    0.367188    0.371652    0.375000  1.076622e+09   \n",
       "1995-01-09    0.373884    0.366071    0.371652    0.367885  2.740864e+08   \n",
       "...                ...         ...         ...         ...           ...   \n",
       "2022-06-01  151.740005  147.679993  149.899994  148.710007  7.428660e+07   \n",
       "2022-06-02  151.270004  146.860001  147.830002  151.210007  7.234810e+07   \n",
       "2022-06-03  147.970001  144.460007  146.899994  145.380005  8.847140e+07   \n",
       "2022-06-06  148.570007  144.899994  147.029999  146.139999  7.159840e+07   \n",
       "2022-06-07  148.990005  144.100006  144.345001  148.710007  6.691074e+07   \n",
       "\n",
       "             Adj Close  \n",
       "Date                    \n",
       "1995-01-03    0.289652  \n",
       "1995-01-04    0.297200  \n",
       "1995-01-05    0.293425  \n",
       "1995-01-06    0.317013  \n",
       "1995-01-09    0.310998  \n",
       "...                ...  \n",
       "2022-06-01  148.710007  \n",
       "2022-06-02  151.210007  \n",
       "2022-06-03  145.380005  \n",
       "2022-06-06  146.139999  \n",
       "2022-06-07  148.710007  \n",
       "\n",
       "[6907 rows x 6 columns]"
      ]
     },
     "execution_count": 50,
     "metadata": {},
     "output_type": "execute_result"
    }
   ],
   "source": [
    "from pandas_datareader import data as wb\n",
    "\n",
    "Apple = wb.DataReader('AAPL', data_source = 'yahoo', start = '1995-1-1')\n",
    "\n",
    "Apple"
   ]
  },
  {
   "cell_type": "code",
   "execution_count": null,
   "metadata": {},
   "outputs": [],
   "source": []
  }
 ],
 "metadata": {
  "interpreter": {
   "hash": "9a2ecc8c37e4f8a401ceb6500608e1de8294c7209ee18d9019816a7ed6670081"
  },
  "kernelspec": {
   "display_name": "Python 3.9.6 64-bit",
   "language": "python",
   "name": "python3"
  },
  "language_info": {
   "codemirror_mode": {
    "name": "ipython",
    "version": 3
   },
   "file_extension": ".py",
   "mimetype": "text/x-python",
   "name": "python",
   "nbconvert_exporter": "python",
   "pygments_lexer": "ipython3",
   "version": "3.9.6"
  },
  "orig_nbformat": 4
 },
 "nbformat": 4,
 "nbformat_minor": 2
}
